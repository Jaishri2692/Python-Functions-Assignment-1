{
 "cells": [
  {
   "cell_type": "code",
   "execution_count": 2,
   "id": "00cf2d7d-ca1a-4265-8041-59f5b82cf0c7",
   "metadata": {},
   "outputs": [
    {
     "name": "stdout",
     "output_type": "stream",
     "text": [
      "[1, 3, 5, 7, 9, 11, 13, 15, 17, 19, 21, 23, 25]\n"
     ]
    }
   ],
   "source": [
    "# Q1. Which keyword is used to create a function? \n",
    "# Create a function to return a list of odd numbers in the range of 1 to 25.\n",
    "\"\"\"\n",
    "The 'def' Keyword is used to create a function.\n",
    "\"\"\"\n",
    "# Python code To print all odd numbers in a given range using the lambda function.\n",
    "\n",
    "a=1;b=25  # Range Declaration\n",
    "li=[]     # Creating list to store odd numbers\n",
    "for i in range(a,b+1):\n",
    "    li.append(i) # The append() method appends an element to the end of the list.                                        \n",
    "odd_num = list(filter(lambda x: (x%2!=0),li)) # printing odd numbers using the lambda function\n",
    "#lambda is a keyword in Python for defining the anonymous function.\n",
    "print(odd_num)"
   ]
  },
  {
   "cell_type": "code",
   "execution_count": null,
   "id": "44df0463-f751-422d-a420-d4a13a1b10ca",
   "metadata": {},
   "outputs": [],
   "source": [
    "# Q2. Why *args and **kwargs is used in some functions? \n",
    "# Create a function each for *args and **kwargs to demonstrate their use."
   ]
  },
  {
   "cell_type": "code",
   "execution_count": null,
   "id": "8f84f8d0-c075-4ca5-af99-94c2b1e7b78f",
   "metadata": {},
   "outputs": [],
   "source": [
    "\"\"\"\n",
    "Two special keywords in Python – *args and **kwargs. \n",
    "These make a Python function flexible so it can accept \n",
    "a variable number of arguments and keyword arguments, respectively.\n",
    "\"\"\""
   ]
  },
  {
   "cell_type": "code",
   "execution_count": 3,
   "id": "4980baa7-10a4-4486-a6f3-46a4dc267240",
   "metadata": {},
   "outputs": [
    {
     "name": "stdout",
     "output_type": "stream",
     "text": [
      "(2, 3) <class 'tuple'>\n"
     ]
    }
   ],
   "source": [
    "# Use *args in Python\n",
    "\"\"\"\n",
    "*args allows us to pass a variable number of non-keyword arguments to a Python function. \n",
    "In the function, we should use an asterisk (*) before the parameter name \n",
    "to pass a variable number of arguments.\n",
    "\"\"\"\n",
    "def add(*args):\n",
    "    print(args, type(args))\n",
    "# these passed arguments make a tuple inside the function with the same name as the parameter excluding *.\n",
    "add(2, 3) "
   ]
  },
  {
   "cell_type": "code",
   "execution_count": 4,
   "id": "8d2b0b21-3346-43cf-b1bf-94e298389568",
   "metadata": {},
   "outputs": [
    {
     "name": "stdout",
     "output_type": "stream",
     "text": [
      "5\n",
      "10\n",
      "17\n",
      "26\n"
     ]
    }
   ],
   "source": [
    "# Example of using *args \n",
    "\"\"\" Now let's write our add() function with a variable number of arguments.\"\"\"\n",
    "def add(*numbers): # the name of the argument need not necessarily be args – it can be anything. \n",
    "                 #In this case it's numbers. But it's generally a standard way to use *args as the name.\n",
    "    total = 0\n",
    "    for num in numbers:\n",
    "        total += num\n",
    "    return total\n",
    "\n",
    "print(add(2, 3))\n",
    "print(add(2, 3, 5))\n",
    "print(add(2, 3, 5, 7))\n",
    "print(add(2, 3, 5, 7, 9))"
   ]
  },
  {
   "cell_type": "code",
   "execution_count": 5,
   "id": "676f8c3f-8a91-4f1e-82e5-81e9df5ffeb1",
   "metadata": {},
   "outputs": [
    {
     "name": "stdout",
     "output_type": "stream",
     "text": [
      "{'banana': 5, 'mango': 7, 'apple': 8} <class 'dict'>\n"
     ]
    }
   ],
   "source": [
    "# Use **kwargs in Python\n",
    "\"\"\"\n",
    "**kwargs allows us to pass a variable number of keyword arguments to a Python function.\n",
    "In the function, we use the double-asterisk (**) before the parameter name to denote this type of argument.\n",
    "\"\"\"\n",
    "def total_fruits(**kwargs):\n",
    "    print(kwargs, type(kwargs))\n",
    "# The arguments, in this case, are passed as a dictionary and these arguments \n",
    "# make a dictionary inside the function with name same as the parameter excluding **.\n",
    "total_fruits(banana=5, mango=7, apple=8)"
   ]
  },
  {
   "cell_type": "code",
   "execution_count": 6,
   "id": "cf9789b2-e5fd-4ea0-a6dc-ee376b4db936",
   "metadata": {},
   "outputs": [
    {
     "name": "stdout",
     "output_type": "stream",
     "text": [
      "20\n",
      "30\n",
      "12\n"
     ]
    }
   ],
   "source": [
    "# Example of using **kwargs\n",
    "def total_fruits(**fruits): # in this the total_fruits() function will return the total number of fruit.\n",
    "    total = 0\n",
    "    for amount in fruits.values():\n",
    "        total += amount\n",
    "    return total\n",
    "print(total_fruits(banana=5, mango=7, apple=8))\n",
    "print(total_fruits(banana=5, mango=7, apple=8, oranges=10))\n",
    "print(total_fruits(banana=5, mango=7))"
   ]
  },
  {
   "cell_type": "code",
   "execution_count": null,
   "id": "899d154b-ae5d-41f8-9979-edab89ef7b42",
   "metadata": {},
   "outputs": [],
   "source": [
    "# Q3. What is an iterator in python? \n",
    "# Name the method used to initialise the iterator object and the method used for iteration. \n",
    "# Use these methods to print the first five elements of the given \n",
    "# list [2, 4, 6, 8, 10, 12, 14, 16, 18, 20]."
   ]
  },
  {
   "cell_type": "code",
   "execution_count": null,
   "id": "d4ca1aa6-75a1-4047-b126-084cba445f3b",
   "metadata": {},
   "outputs": [],
   "source": [
    "\"\"\"\n",
    "In Python, an iterator is an object that allows you to iterate over collections of data, \n",
    "such as lists, tuples, dictionaries, and sets. Python iterators implement the iterator design pattern, \n",
    "which allows you to traverse a container and access its elements.\n",
    "\"\"\"\n",
    "# The iterator consists of two methods: iter() and next().\n",
    "\n",
    "# Iter() method is used to initialize the iterator object \n",
    "# so that the instance of this object can be used for iterating.\n",
    "\n",
    "      # Syntax is    myiterator = iter()\n",
    "\n",
    "\"\"\" Iteration of the Iterator \"\"\"\n",
    "\n",
    "#The next() method is used to iterate over the iterable objects. \n",
    "#The next() method returns the next value in the iterable object.\n",
    "\n",
    "     # Syntax is   item = next(myiterator)"
   ]
  },
  {
   "cell_type": "code",
   "execution_count": 8,
   "id": "6bc2f8d7-ea59-4ba9-9acb-a75f0f28e9f9",
   "metadata": {},
   "outputs": [
    {
     "name": "stdout",
     "output_type": "stream",
     "text": [
      "2\n",
      "4\n",
      "6\n",
      "8\n",
      "10\n"
     ]
    }
   ],
   "source": [
    "ListObj=[2, 4, 6, 8, 10, 12, 14, 16, 18, 20]\n",
    "myiterator=iter(ListObj)\n",
    "print(next(myiterator))\n",
    "print(next(myiterator))\n",
    "print(next(myiterator))\n",
    "print(next(myiterator))\n",
    "print(next(myiterator))"
   ]
  },
  {
   "cell_type": "code",
   "execution_count": null,
   "id": "9fdb63ea-0dc3-4e34-ad0c-b06426622687",
   "metadata": {},
   "outputs": [],
   "source": [
    "# Q4 What is a generator function in python? Why yield keyword is used? Give an example of a generator function.\n",
    "\n",
    "\"\"\"\n",
    "In Python, a generator is a function that returns an iterator \n",
    "that produces a sequence of values when iterated over.\n",
    "\n",
    "Generators are useful when we want to produce a large sequence of values, \n",
    "but we don't want to store all of them in memory at once.\n",
    "\"\"\"\n",
    "# In Python, similar to defining a normal function, we can define a generator function using the \"def\" keyword,\n",
    "# but instead of the \"return\" statement we use the \"yield\" statement. \n",
    "                  \"\"\"\n",
    "              def generator_name(arg):\n",
    "                  statements\n",
    "              yield something\n",
    "                   \"\"\"\n",
    "# Here, the \"yield\" keyword is used to produce a value from the generator.\n",
    "\n",
    "# When the generator function is called, it does not execute the function body immediately. \n",
    "# Instead, it returns a generator object that can be iterated over to produce the values.    "
   ]
  },
  {
   "cell_type": "code",
   "execution_count": 12,
   "id": "ab463086-75ff-40a9-b2d2-1f1985c53535",
   "metadata": {},
   "outputs": [
    {
     "name": "stdout",
     "output_type": "stream",
     "text": [
      "0\n",
      "1\n",
      "2\n"
     ]
    }
   ],
   "source": [
    "\"\"\" An example of a generator function \"\"\"\n",
    "def my_generator(n):\n",
    "\n",
    "    # initialize counter\n",
    "    value = 0\n",
    "\n",
    "    # loop until counter is less than n\n",
    "    while value < n:\n",
    "\n",
    "        # produce the current value of the counter\n",
    "        yield value\n",
    "\n",
    "        # increment the counter\n",
    "        value += 1\n",
    "\n",
    "# iterate over the generator object produced by my_generator\n",
    "for value in my_generator(3):\n",
    "\n",
    "    # print each value produced by generator\n",
    "    print(value)"
   ]
  },
  {
   "cell_type": "code",
   "execution_count": 39,
   "id": "6181ae30-3e3f-4c1f-9fcf-40a998fbb11d",
   "metadata": {},
   "outputs": [
    {
     "name": "stdin",
     "output_type": "stream",
     "text": [
      "Enter the range:  1000\n"
     ]
    },
    {
     "name": "stdout",
     "output_type": "stream",
     "text": [
      "2 3 5 7 11 13 17 19 23 29 31 37 41 43 47 53 59 61 67 71 73 79 83 89 97 101 103 107 109 113 127 131 137 139 149 151 157 163 167 173 179 181 191 193 197 199 211 223 227 229 233 239 241 251 257 263 269 271 277 281 283 293 307 311 313 317 331 337 347 349 353 359 367 373 379 383 389 397 401 409 419 421 431 433 439 443 449 457 461 463 467 479 487 491 499 503 509 521 523 541 547 557 563 569 571 577 587 593 599 601 607 613 617 619 631 641 643 647 653 659 661 673 677 683 691 701 709 719 727 733 739 743 751 757 761 769 773 787 797 809 811 821 823 827 829 839 853 857 859 863 877 881 883 887 907 911 919 929 937 941 947 953 967 971 977 983 991 997 "
     ]
    }
   ],
   "source": [
    "# Q5 Create a generator function for prime numbers less than 1000. Use the next() method to print the\n",
    "# first 20 prime numbers.\n",
    "\n",
    "# Prime Numbers are whole number greater than 1 that cannot be exactly divided by \n",
    "# any whole number other than itself and 1 (e.g. 2, 3, 5, 7, 11).\n",
    "def Prime_seq(num):\n",
    "    for i in range(2,num):\n",
    "        if prime(i) == True:\n",
    "            print(i,end = \" \")\n",
    "        else:\n",
    "            pass\n",
    "\n",
    "num = int(input(\"Enter the range: \"))\n",
    "prime = lambda num: all( num%x != 0 for x in range(2, int(num**.5)+1) )\n",
    "Prime_seq(num)"
   ]
  },
  {
   "cell_type": "code",
   "execution_count": 60,
   "id": "8f3e7170-0b4f-4459-ad83-987789dd0a10",
   "metadata": {},
   "outputs": [
    {
     "name": "stdout",
     "output_type": "stream",
     "text": [
      "2\n",
      "3\n",
      "5\n",
      "7\n",
      "11\n",
      "13\n",
      "17\n",
      "19\n",
      "23\n",
      "29\n",
      "31\n",
      "37\n",
      "41\n",
      "43\n",
      "47\n",
      "53\n",
      "59\n",
      "61\n",
      "67\n",
      "71\n"
     ]
    }
   ],
   "source": [
    "# i want to store that output into a List by coding. i tried alot but did not able to do.\n",
    "# so i created a list named \"PrimeList\" manually enter the above output values into it as a list \n",
    "# to perform the following operations below to get the first 20 prime numbers using next() method.\n",
    "\n",
    "PrimeList=[2, 3, 5, 7, 11, 13, 17, 19, 23, 29, 31, 37, 41, 43, 47, 53, 59, 61, 67, 71, 73, 79, 83, 89, 97, 101, \n",
    "           103, 107, 109, 113, 127, 131, 137, 139, 149, 151, 157, 163, 167, 173, 179, 181, 191, 193, 197, 199,\n",
    "           211, 223, 227, 229, 233, 239, 241, 251, 257, 263, 269, 271, 277, 281, 283, 293, 307, 311, 313, 317,\n",
    "           331, 337, 347, 349, 353, 359, 367, 373, 379, 383, 389, 397, 401, 409, 419, 421, 431, 433, 439, 443,\n",
    "           449, 457, 461, 463, 467, 479, 487, 491, 499, 503, 509, 521, 523, 541, 547, 557, 563, 569, 571, 577,\n",
    "           587, 593, 599, 601, 607, 613, 617, 619, 631, 641, 643, 647, 653, 659, 661, 673, 677, 683, 691, 701, \n",
    "           709, 719, 727, 733, 739, 743, 751, 757, 761, 769, 773, 787, 797, 809, 811, 821, 823, 827, 829, 839,\n",
    "           853, 857, 859, 863, 877, 881, 883, 887, 907, 911, 919, 929, 937, 941, 947, 953, 967, 971, 977, 983,\n",
    "           991, 997 ]\n",
    "myiterator=iter(PrimeList)\n",
    "print(next(myiterator))\n",
    "print(next(myiterator))\n",
    "print(next(myiterator))\n",
    "print(next(myiterator))\n",
    "print(next(myiterator))\n",
    "print(next(myiterator))\n",
    "print(next(myiterator))\n",
    "print(next(myiterator))\n",
    "print(next(myiterator))\n",
    "print(next(myiterator))\n",
    "print(next(myiterator))\n",
    "print(next(myiterator))\n",
    "print(next(myiterator))\n",
    "print(next(myiterator))\n",
    "print(next(myiterator))\n",
    "print(next(myiterator))\n",
    "print(next(myiterator))\n",
    "print(next(myiterator))\n",
    "print(next(myiterator))\n",
    "print(next(myiterator))"
   ]
  },
  {
   "cell_type": "code",
   "execution_count": 63,
   "id": "33efb85c-e392-4595-aba9-cbe7030a21d0",
   "metadata": {},
   "outputs": [
    {
     "name": "stdin",
     "output_type": "stream",
     "text": [
      "\n",
      "Please Enter the Range :  10\n"
     ]
    },
    {
     "name": "stdout",
     "output_type": "stream",
     "text": [
      "0\n",
      "1\n",
      "1\n",
      "2\n",
      "3\n",
      "5\n",
      "8\n",
      "13\n",
      "21\n",
      "34\n"
     ]
    }
   ],
   "source": [
    "# Q6. Write a python program to print the first 10 Fibonacci numbers using a while loop.\n",
    "\n",
    "# The Fibonacci series is the sequence of numbers \n",
    "# in which the next number is the sum of the two previous numbers.\n",
    "\n",
    "\n",
    "Number = int(input(\"\\nPlease Enter the Range : \"))\n",
    "\n",
    "# Initializing First and Second Values\n",
    "i = 0\n",
    "First_Value = 0\n",
    "Second_Value = 1\n",
    "           \n",
    "# Find & Displaying\n",
    "\n",
    "while(i < Number):\n",
    "    if(i <= 1):\n",
    "        Next = i\n",
    "    else:\n",
    "        Next = First_Value + Second_Value\n",
    "        First_Value = Second_Value\n",
    "        Second_Value = Next\n",
    "    print(Next)\n",
    "    i = i + 1"
   ]
  },
  {
   "cell_type": "code",
   "execution_count": null,
   "id": "5fdc645b-bd1b-46a6-ac17-83d337264f5b",
   "metadata": {},
   "outputs": [],
   "source": [
    "# Q7. Write a List Comprehension to iterate through the given string: ‘pwskills’.\n",
    "# Expected output: ['p', 'w', 's', 'k', 'i', 'l', 'l', 's']"
   ]
  },
  {
   "cell_type": "code",
   "execution_count": 8,
   "id": "c9de494a-c41d-49c0-846d-479cdf63acfe",
   "metadata": {},
   "outputs": [
    {
     "name": "stdout",
     "output_type": "stream",
     "text": [
      "['p', 'w', 's', 'k', 'i', 'l', 'l', 's']\n"
     ]
    }
   ],
   "source": [
    "Expected_Output= [Output for Output in \"pwskills\"]\n",
    "print(Expected_Output)"
   ]
  },
  {
   "cell_type": "code",
   "execution_count": null,
   "id": "f38d1f27-ee35-47bf-aa50-4cf05b5b604e",
   "metadata": {},
   "outputs": [],
   "source": [
    "# In above the code,the new list is assigned to the variable \" Expected_Output \"\n",
    "# and \" Output \" is stands for the items contained in the itrable string \"pwskills\"."
   ]
  },
  {
   "cell_type": "code",
   "execution_count": 10,
   "id": "f64e8345-2b6e-4744-bc76-93950b7d86df",
   "metadata": {},
   "outputs": [
    {
     "name": "stdout",
     "output_type": "stream",
     "text": [
      "['p']\n",
      "['p', 'w']\n",
      "['p', 'w', 's']\n",
      "['p', 'w', 's', 'k']\n",
      "['p', 'w', 's', 'k', 'i']\n",
      "['p', 'w', 's', 'k', 'i', 'l']\n",
      "['p', 'w', 's', 'k', 'i', 'l', 'l']\n",
      "['p', 'w', 's', 'k', 'i', 'l', 'l', 's']\n"
     ]
    }
   ],
   "source": [
    "Unexpected_Output=[]\n",
    "for Output in \"pwskills\":\n",
    "    Unexpected_Output.append(Output)\n",
    "    print(Unexpected_Output) "
   ]
  },
  {
   "cell_type": "code",
   "execution_count": null,
   "id": "9aa255cb-7505-4ae2-a86a-a6344f7ded87",
   "metadata": {},
   "outputs": [],
   "source": [
    "\"\"\"\n",
    "When i first try for this question 7, this is my unexpected output. \n",
    "from this code, i was expecting the output which were asked in question.\n",
    "\"\"\""
   ]
  },
  {
   "cell_type": "code",
   "execution_count": null,
   "id": "fe91b40e-9407-4528-af6b-64d89c7d4b02",
   "metadata": {},
   "outputs": [],
   "source": [
    "# Q8. Write a python program to check whether a given number is Palindrome or not using a while loop."
   ]
  },
  {
   "cell_type": "code",
   "execution_count": 12,
   "id": "7cf03d91-7e89-4d4d-af6e-a813ca87e238",
   "metadata": {},
   "outputs": [
    {
     "name": "stdin",
     "output_type": "stream",
     "text": [
      "Enter number: 56565\n"
     ]
    },
    {
     "name": "stdout",
     "output_type": "stream",
     "text": [
      "The number is a palindrome!\n"
     ]
    }
   ],
   "source": [
    "\"\"\"\n",
    "Palindrome is a word, phrase, or sequence that reads the same backwards as forwards, e.g. madam, 56565\n",
    "\"\"\"\n",
    "n=int(input(\"Enter number:\"))\n",
    "temp=n\n",
    "rev=0\n",
    "while(n>0):\n",
    "    dig=n%10\n",
    "    rev=rev*10+dig\n",
    "    n=n//10     \n",
    "if(temp==rev):\n",
    "    print(\"The number is a palindrome!\")\n",
    "else:\n",
    "    print(\"The number isn't a palindrome!\")\n"
   ]
  },
  {
   "cell_type": "code",
   "execution_count": null,
   "id": "04e0ea17-489d-4690-996a-1bebea1160e2",
   "metadata": {},
   "outputs": [],
   "source": [
    "# 1. User must first enter the value of the integer and store it in a variable.\n",
    "# 2. The value of the integer is then stored in another temporary variable.\n",
    "# 3. The while loop is used and the last digit of the number is obtained by using the modulus operator.\n",
    "# 4. The last digit is then stored at the one’s place, second last at the ten’s place and so on.\n",
    "# 5. The last digit is then removed by truly dividing the number with 10.\n",
    "# 6. This loop terminates when the value of the number is 0.\n",
    "# 7. The reverse of the number is then compared with the integer value stored in the temporary variable.\n",
    "# 8. If both are equal, the number is a palindrome.\n",
    "# 9. If both aren’t equal, the number isn’t a palindrome.\n",
    "# 10. The final result is then printed."
   ]
  },
  {
   "cell_type": "code",
   "execution_count": 15,
   "id": "6a61e0e0-fc1f-4148-b8af-f09c0ef4888d",
   "metadata": {},
   "outputs": [
    {
     "name": "stdout",
     "output_type": "stream",
     "text": [
      "[1, 3, 5, 7, 9, 11, 13, 15, 17, 19, 21, 23, 25, 27, 29, 31, 33, 35, 37, 39, 41, 43, 45, 47, 49, 51, 53, 55, 57, 59, 61, 63, 65, 67, 69, 71, 73, 75, 77, 79, 81, 83, 85, 87, 89, 91, 93, 95, 97, 99]\n"
     ]
    }
   ],
   "source": [
    "# Q9. Write a code to print odd numbers from 1 to 100 using list comprehension.\n",
    "Odd_list = [element for element in range(1, 100) if element % 2 == 1 ]\n",
    "print(Odd_list)\n",
    "# In above the code,the new list is assigned to the variable \" Odd_list \"\n",
    "# and \" element \" is stands for the odd numbers contained in the range between 1 to 100.\n",
    "# than we will print the variable \" Odd_list \" to get the expected elements or odd numbers."
   ]
  },
  {
   "cell_type": "code",
   "execution_count": null,
   "id": "489c8dcf-1980-4e4c-860e-14dac23ead66",
   "metadata": {},
   "outputs": [],
   "source": []
  }
 ],
 "metadata": {
  "kernelspec": {
   "display_name": "Python 3 (ipykernel)",
   "language": "python",
   "name": "python3"
  },
  "language_info": {
   "codemirror_mode": {
    "name": "ipython",
    "version": 3
   },
   "file_extension": ".py",
   "mimetype": "text/x-python",
   "name": "python",
   "nbconvert_exporter": "python",
   "pygments_lexer": "ipython3",
   "version": "3.10.8"
  }
 },
 "nbformat": 4,
 "nbformat_minor": 5
}
